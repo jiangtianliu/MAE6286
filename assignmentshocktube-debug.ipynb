{
 "cells": [
  {
   "cell_type": "code",
   "execution_count": 128,
   "metadata": {
    "collapsed": false
   },
   "outputs": [],
   "source": [
    "import numpy\n",
    "from matplotlib import pyplot\n",
    "%matplotlib inline"
   ]
  },
  {
   "cell_type": "code",
   "execution_count": 129,
   "metadata": {
    "collapsed": true
   },
   "outputs": [],
   "source": [
    "###Paramaters\n",
    "nx = 81\n",
    "dx = 0.25\n",
    "dt = 0.0002\n",
    "gamma =1.4"
   ]
  },
  {
   "cell_type": "code",
   "execution_count": 130,
   "metadata": {
    "collapsed": false
   },
   "outputs": [],
   "source": [
    "###Initial conditions\n",
    "x = numpy.linspace(-10, 10, nx)\n",
    "rho_IC = numpy.empty(nx)\n",
    "u_IC = numpy.empty(nx)\n",
    "p_IC = numpy.empty(nx)\n",
    "\n",
    "for i in range(len(x)):\n",
    "    if x[i]<0:\n",
    "        rho_IC[i] = 1.0\n",
    "        u_IC[i] = 0.0\n",
    "        p_IC[i] = 100000\n",
    "    else:\n",
    "        rho_IC[i] = 0.125\n",
    "        u_IC[i] = 0.0\n",
    "        p_IC[i] = 10000.0"
   ]
  },
  {
   "cell_type": "code",
   "execution_count": 131,
   "metadata": {
    "collapsed": false
   },
   "outputs": [],
   "source": [
    "rho = rho_IC\n",
    "u = u_IC\n",
    "p = p_IC"
   ]
  },
  {
   "cell_type": "code",
   "execution_count": 132,
   "metadata": {
    "collapsed": false
   },
   "outputs": [],
   "source": [
    "###Time steps\n",
    "T = 0.01\n",
    "nt = int(T/dt)+1"
   ]
  },
  {
   "cell_type": "code",
   "execution_count": 133,
   "metadata": {
    "collapsed": false
   },
   "outputs": [],
   "source": [
    "def compute_eT(rho, u, p, gamma):\n",
    "    \n",
    "    e = p/(gamma - 1)/rho\n",
    "    \n",
    "    return e + 0.5*u**2"
   ]
  },
  {
   "cell_type": "code",
   "execution_count": 134,
   "metadata": {
    "collapsed": false
   },
   "outputs": [],
   "source": [
    "def get_u(rho, u, p):\n",
    "    \n",
    "    eT = compute_eT(rho, u, p, gamma)\n",
    "    \n",
    "    return numpy.array([rho, rho*u, rho*eT])"
   ]
  },
  {
   "cell_type": "code",
   "execution_count": 135,
   "metadata": {
    "collapsed": false
   },
   "outputs": [],
   "source": [
    "def f(U):\n",
    "    \n",
    "    rho = U[0,:]\n",
    "    p = U[-1,:]\n",
    "    eT = compute_eT(rho, u, p, gamma)\n",
    "    \n",
    "    return numpy.array([U[1], \\\n",
    "                        U[1]**2/U[0]+(gamma-1)*(U[-1]-0.5*U[1]**2/U[0]), \\\n",
    "                        (U[-1]+(gamma-1)*(U[-1]-0.5*U[1]**2/U[0]))*U[1]/U[0]])"
   ]
  },
  {
   "cell_type": "code",
   "execution_count": 136,
   "metadata": {
    "collapsed": false
   },
   "outputs": [],
   "source": [
    "u_1 = get_u(rho, u, p)\n",
    "u_nn = numpy.empty_like(u_1)\n",
    "u_result = numpy.empty_like(u_1)\n",
    "F = numpy.empty_like(u_1)\n",
    "F_nn = numpy.empty_like(u_1)\n",
    "\n",
    "for t in range(1, nt):\n",
    "    F = f(u_1)\n",
    "    \n",
    "    u_nn[:,:-1] = 0.5*(u_1[:,1:]+u_1[:,:-1])\\\n",
    "    - (dt/2/dx)*(F[:,1:]-F[:,:-1])\n",
    "    \n",
    "    u_nn[:,-1] = u_1[:,-1]\n",
    "    \n",
    "    F_nn = f(u_nn)\n",
    "    \n",
    "    u_result[:,1:-1] = u_1[:,1:-1]-dt/dx*(F_nn[:,1:-1]-F_nn[:,:-2])\n",
    "    \n",
    "    u_result[:,0] = u_1[:,0]\n",
    "    u_result[:,-1] = u_1[:,-1]\n",
    "    u_1 = u_result.copy()"
   ]
  },
  {
   "cell_type": "code",
   "execution_count": 140,
   "metadata": {
    "collapsed": false
   },
   "outputs": [
    {
     "name": "stdout",
     "output_type": "stream",
     "text": [
      "50\n",
      "292.611471527\n",
      "0.374691402648\n",
      "91668.0403769\n",
      "30250.8901676\n"
     ]
    }
   ],
   "source": [
    "for i in range(nt):\n",
    "    if x[i] == 2.5:\n",
    "        print(i)\n",
    "        print(u_result[1,i]/u_result[0,i])\n",
    "        print(u_result[0,i])\n",
    "        print(u_result[-1,i])\n",
    "        print((gamma - 1)*(u_result[-1,i]-0.5*u_result[1,i]**2/u_result[0,i]))"
   ]
  }
 ],
 "metadata": {
  "anaconda-cloud": {},
  "kernelspec": {
   "display_name": "Python [default]",
   "language": "python",
   "name": "python3"
  },
  "language_info": {
   "codemirror_mode": {
    "name": "ipython",
    "version": 3
   },
   "file_extension": ".py",
   "mimetype": "text/x-python",
   "name": "python",
   "nbconvert_exporter": "python",
   "pygments_lexer": "ipython3",
   "version": "3.5.2"
  }
 },
 "nbformat": 4,
 "nbformat_minor": 1
}
