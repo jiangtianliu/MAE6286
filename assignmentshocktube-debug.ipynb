{
 "cells": [
  {
   "cell_type": "code",
   "execution_count": 18,
   "metadata": {
    "collapsed": false
   },
   "outputs": [],
   "source": [
    "import numpy\n",
    "from matplotlib import pyplot\n",
    "%matplotlib inline"
   ]
  },
  {
   "cell_type": "code",
   "execution_count": 19,
   "metadata": {
    "collapsed": true
   },
   "outputs": [],
   "source": [
    "###Paramaters\n",
    "nx = 81\n",
    "dx = 0.25\n",
    "dt = 0.0002\n",
    "gamma =1.4"
   ]
  },
  {
   "cell_type": "code",
   "execution_count": 20,
   "metadata": {
    "collapsed": false
   },
   "outputs": [],
   "source": [
    "###Initial conditions\n",
    "x = numpy.linspace(-10, 10, nx)\n",
    "rho_IC = numpy.empty(nx)\n",
    "u_IC = numpy.empty(nx)\n",
    "p_IC = numpy.empty(nx)\n",
    "\n",
    "for i in range(len(x)):\n",
    "    if x[i]<0:\n",
    "        rho_IC[i] = 1.0\n",
    "        u_IC[i] = 0.0\n",
    "        p_IC[i] = 100000\n",
    "    else:\n",
    "        rho_IC[i] = 0.125\n",
    "        u_IC[i] = 0.0\n",
    "        p_IC[i] = 10000.0"
   ]
  },
  {
   "cell_type": "code",
   "execution_count": 21,
   "metadata": {
    "collapsed": false
   },
   "outputs": [],
   "source": [
    "rho = rho_IC\n",
    "u = u_IC\n",
    "p = p_IC"
   ]
  },
  {
   "cell_type": "code",
   "execution_count": 22,
   "metadata": {
    "collapsed": false
   },
   "outputs": [],
   "source": [
    "###Time steps\n",
    "T = 0.01\n",
    "nt = int(T/dt)+1\n",
    "t = numpy.linspace(0, 0.01, nt)"
   ]
  },
  {
   "cell_type": "code",
   "execution_count": 23,
   "metadata": {
    "collapsed": false
   },
   "outputs": [],
   "source": [
    "def compute_eT(rho, u, p):\n",
    "    \n",
    "    e = p/(gamma - 1)/rho\n",
    "    \n",
    "    return e + 0.5*u**2"
   ]
  },
  {
   "cell_type": "code",
   "execution_count": 24,
   "metadata": {
    "collapsed": false
   },
   "outputs": [],
   "source": [
    "def get_u(rho, u, p):\n",
    "    \n",
    "    eT = compute_eT(rho, u, p)\n",
    "    \n",
    "    return numpy.array([rho, rho*u, rho*eT])"
   ]
  },
  {
   "cell_type": "code",
   "execution_count": 25,
   "metadata": {
    "collapsed": false
   },
   "outputs": [],
   "source": [
    "def f(U):\n",
    "    \n",
    "    rho = U[0,:]\n",
    "    p = U[-1,:]\n",
    "    eT = compute_eT(rho, u, p)\n",
    "    \n",
    "    return numpy.array([U[1], \\\n",
    "                        U[1]**2/U[0]+(gamma-1)*(U[-1]-0.5*U[1]**2/U[0]), \\\n",
    "                        (U[-1]+(gamma-1)*(U[-1]-0.5*U[1]**2/U[0]))*U[1]/U[0]])"
   ]
  },
  {
   "cell_type": "code",
   "execution_count": 26,
   "metadata": {
    "collapsed": false
   },
   "outputs": [
    {
     "name": "stderr",
     "output_type": "stream",
     "text": [
      "/home/gil/anaconda3/lib/python3.5/site-packages/ipykernel/__main__.py:3: RuntimeWarning: invalid value encountered in true_divide\n",
      "  app.launch_new_instance()\n",
      "/home/gil/anaconda3/lib/python3.5/site-packages/ipykernel/__main__.py:7: RuntimeWarning: invalid value encountered in true_divide\n",
      "/home/gil/anaconda3/lib/python3.5/site-packages/ipykernel/__main__.py:7: RuntimeWarning: overflow encountered in multiply\n",
      "/home/gil/anaconda3/lib/python3.5/site-packages/ipykernel/__main__.py:7: RuntimeWarning: overflow encountered in square\n",
      "/home/gil/anaconda3/lib/python3.5/site-packages/ipykernel/__main__.py:7: RuntimeWarning: invalid value encountered in add\n",
      "/home/gil/anaconda3/lib/python3.5/site-packages/ipykernel/__main__.py:8: RuntimeWarning: invalid value encountered in add\n",
      "/home/gil/anaconda3/lib/python3.5/site-packages/ipykernel/__main__.py:8: RuntimeWarning: invalid value encountered in subtract\n",
      "/home/gil/anaconda3/lib/python3.5/site-packages/ipykernel/__main__.py:12: RuntimeWarning: invalid value encountered in subtract\n"
     ]
    }
   ],
   "source": [
    "u_1 = get_u(rho, u, p)\n",
    "u_nn = numpy.empty_like(u_1)\n",
    "u_result = numpy.empty_like(u_1)\n",
    "\n",
    "for t in range(1, nt):\n",
    "    F = f(u_1)\n",
    "    \n",
    "    u_nn[:,:-1] = 0.5*(u_1[:,1:]+u_1[:,:-1])\\\n",
    "    - (dt/2/dx)*(F[:,1:]-F[:,:-1])\n",
    "    \n",
    "    F_nn = f(u_nn)\n",
    "    \n",
    "    u_result[:,:-1] = u_1[:,:-1]-dt/dx*(F_nn[:,1:]-F_nn[:,:-1])\n",
    "    \n",
    "    u_1 = u_result.copy()"
   ]
  },
  {
   "cell_type": "code",
   "execution_count": 27,
   "metadata": {
    "collapsed": false
   },
   "outputs": [
    {
     "name": "stdout",
     "output_type": "stream",
     "text": [
      "50\n",
      "nan\n"
     ]
    }
   ],
   "source": [
    "for i in range(nt):\n",
    "    if x[i] == 2.5:\n",
    "        print(i)\n",
    "        print(u_result[1,i]/u_result[0,i])"
   ]
  },
  {
   "cell_type": "code",
   "execution_count": 28,
   "metadata": {
    "collapsed": false
   },
   "outputs": [
    {
     "data": {
      "text/plain": [
       "(3, 81)"
      ]
     },
     "execution_count": 28,
     "metadata": {},
     "output_type": "execute_result"
    }
   ],
   "source": [
    "u_1.shape"
   ]
  },
  {
   "cell_type": "code",
   "execution_count": 29,
   "metadata": {
    "collapsed": false
   },
   "outputs": [
    {
     "data": {
      "text/plain": [
       "(3, 81)"
      ]
     },
     "execution_count": 29,
     "metadata": {},
     "output_type": "execute_result"
    }
   ],
   "source": [
    "u_result.shape"
   ]
  },
  {
   "cell_type": "code",
   "execution_count": 30,
   "metadata": {
    "collapsed": false
   },
   "outputs": [
    {
     "data": {
      "text/plain": [
       "(3, 81)"
      ]
     },
     "execution_count": 30,
     "metadata": {},
     "output_type": "execute_result"
    }
   ],
   "source": [
    "u_nn.shape"
   ]
  },
  {
   "cell_type": "code",
   "execution_count": null,
   "metadata": {
    "collapsed": true
   },
   "outputs": [],
   "source": []
  }
 ],
 "metadata": {
  "anaconda-cloud": {},
  "kernelspec": {
   "display_name": "Python [default]",
   "language": "python",
   "name": "python3"
  },
  "language_info": {
   "codemirror_mode": {
    "name": "ipython",
    "version": 3
   },
   "file_extension": ".py",
   "mimetype": "text/x-python",
   "name": "python",
   "nbconvert_exporter": "python",
   "pygments_lexer": "ipython3",
   "version": "3.5.2"
  }
 },
 "nbformat": 4,
 "nbformat_minor": 1
}
