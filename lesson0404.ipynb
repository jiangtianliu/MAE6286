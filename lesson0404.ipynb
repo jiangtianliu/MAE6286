{
 "cells": [
  {
   "cell_type": "code",
   "execution_count": 14,
   "metadata": {
    "collapsed": true
   },
   "outputs": [],
   "source": [
    "import numpy\n",
    "from scipy.linalg import solve"
   ]
  },
  {
   "cell_type": "code",
   "execution_count": 15,
   "metadata": {
    "collapsed": false
   },
   "outputs": [],
   "source": [
    "def constructMatrix(nx, ny, sigma):\n",
    "    A = numpy.zeros(((nx-2)*(ny-2), (nx-2)*(ny-2)))\n",
    "    \n",
    "    row_number = 0\n",
    "    for j in range(1, ny-1):\n",
    "        for i in range(1, nx-1):\n",
    "            \n",
    "            if i==1 and j==1:\n",
    "                A[row_number,row_number] = 1/sigma + 4\n",
    "                A[row_number,row_number+1] = -1\n",
    "                A[row_number,row_number+nx-2] = -1\n",
    "            \n",
    "            elif i==nx-2 and j==1:\n",
    "                A[row_number,row_number] = 1/sigma + 3\n",
    "                A[row_number,row_number-1] = -1\n",
    "                A[row_number,row_number+nx-2] = -1\n",
    "                \n",
    "            elif i==1 and j==ny-2:\n",
    "                A[row_number,row_number] = 1/sigma + 3\n",
    "                A[row_number,row_number+1] = -1\n",
    "                A[row_number,row_number-(nx-2)] = -1\n",
    "                \n",
    "            elif i==nx-2 and j==ny-2:\n",
    "                A[row_number,row_number] = 1/sigma + 2\n",
    "                A[row_number,row_number-1] = -1\n",
    "                A[row_number,row_number-(nx-2)] = -1\n",
    "                \n",
    "            elif i==1:\n",
    "                A[row_number,row_number] = 1/sigma + 4\n",
    "                A[row_number,row_number+1] = -1\n",
    "                A[row_number,row_number+nx+2] = -1\n",
    "                A[row_number,row_number-(nx-2)] = -1\n",
    "                \n",
    "            elif i==nx-2:\n",
    "                A[row_number,row_number] = 1/sigma + 3\n",
    "                A[row_number,row_number-1] = -1\n",
    "                A[row_number,row_number+nx-2] = -1\n",
    "                A[row_number,row_number-(nx-2)] = -1\n",
    "                \n",
    "            elif j==1:\n",
    "                A[row_number,row_number]=1/sigma + 4\n",
    "                A[row_number,row_number+1] = -1\n",
    "                A[row_number,row_number-1] = -1\n",
    "                A[row_number,row_number+nx-2] = -1\n",
    "                \n",
    "            elif j==ny-2:\n",
    "                A[row_number,row_number] = 1/sigma + 3\n",
    "                A[row_number,row_number+1] = -1\n",
    "                A[row_number,row_number-1] = -1\n",
    "                A[row_number,row_number-(nx-2)] = -1\n",
    "                \n",
    "            else:\n",
    "                A[row_number,row_number] = 1/sigma + 4\n",
    "                A[row_number,row_number+1] = -1\n",
    "                A[row_number,row_number-1] = -1\n",
    "                A[row_number,row_number+nx-2] = -1\n",
    "                A[row_number,row_number-(nx-2)] = -1\n",
    "                \n",
    "            row_number += 1\n",
    "            \n",
    "    return A"
   ]
  },
  {
   "cell_type": "code",
   "execution_count": 16,
   "metadata": {
    "collapsed": false
   },
   "outputs": [],
   "source": [
    "def generateRHS(nx, ny, sigma, T, T_bc):\n",
    "    \n",
    "    RHS = numpy.zeros((nx-2)*(ny-2))\n",
    "    \n",
    "    row_number = 0\n",
    "    for j in range(1,nx-1):\n",
    "        for i in range(1,nx-1):\n",
    "            if i==1 and j==1:\n",
    "                RHS[row_number] = T[j,i]*1/sigma + 2*T_bc\n",
    "            \n",
    "            elif i==nx-2 and j==1:\n",
    "                RHS[row_number] = T[j,i]*1/sigma + T_bc\n",
    "            \n",
    "            elif i==1 and j==ny-2:\n",
    "                RHS[row_number] = T[j,i]*1/sigma + T_bc\n",
    "            \n",
    "            elif i==nx-2 and j==ny-2:\n",
    "                RHS[row_number] = T[j,i]*1/sigma\n",
    "            \n",
    "            elif i==1:\n",
    "                RHS[row_number] = T[j,i]*1/sigma + T_bc\n",
    "            \n",
    "            elif i==nx-2:\n",
    "                RHS[row_number] = T[j,i]*1/sigma\n",
    "            \n",
    "            elif j==1:\n",
    "                RHS[row_number] = T[j,i]*1/sigma + T_bc\n",
    "            \n",
    "            elif j==ny-2:\n",
    "                RHS[row_number] = T[j,i]*1/sigma\n",
    "            \n",
    "            else:\n",
    "                RHS[row_number] = T[j,i]*1/sigma\n",
    "            \n",
    "            row_number += 1\n",
    "        \n",
    "    return RHS"
   ]
  },
  {
   "cell_type": "code",
   "execution_count": 17,
   "metadata": {
    "collapsed": true
   },
   "outputs": [],
   "source": [
    "def map_1Dto2D(nx, ny, T_1D, T_bc):\n",
    "    \n",
    "    T = numpy.zeros((ny,nx))\n",
    "    \n",
    "    row_number = 0\n",
    "    for j in range(1,ny-1):\n",
    "        for i in range(1,nx-1):\n",
    "            T[j,i] = T_1D[row_number]\n",
    "            row_number += 1\n",
    "            \n",
    "    T[0,:] = T_bc\n",
    "    T[:,0] = T_bc\n",
    "    \n",
    "    T[-1,:] = T[-2,:]\n",
    "    T[:,-1] = T[:,-2]\n",
    "    \n",
    "    return T"
   ]
  },
  {
   "cell_type": "code",
   "execution_count": 18,
   "metadata": {
    "collapsed": true
   },
   "outputs": [],
   "source": [
    "def btcs_2D(T, A, nt, sigma, T_bc, nx, ny, dt):\n",
    "    \n",
    "    j_mid = int((numpy.shape(T)[0])/2)\n",
    "    i_mid = int((numpy.shape(T)[1])/2)\n",
    "    \n",
    "    for t in range(nt):\n",
    "        Tn = T.copy()\n",
    "        b = generateRHS(nx, ny, sigma, Tn, T_bc)\n",
    "        \n",
    "        T_interior = solve(A,b)\n",
    "        T = map_1Dto2D(nx, ny, T_interior, T_bc)\n",
    "        \n",
    "        if T[j_mid, i_mid] >= 70:\n",
    "            print (\"Center of plate reached 70C at time {0:.2f}s, in time step {1:d}.\".format(dt*t, t))\n",
    "            break\n",
    "            \n",
    "    if T[j_mid, i_mid]<70:\n",
    "        print (\"Center has not reached 70C yet, it is only {0:.2f}C.\".format(T[j_mid, i_mid]))\n",
    "        \n",
    "    return T"
   ]
  },
  {
   "cell_type": "code",
   "execution_count": 19,
   "metadata": {
    "collapsed": true
   },
   "outputs": [],
   "source": [
    "alpha = 1e-4\n",
    "\n",
    "L = 1.0e-2\n",
    "H = 1.0e-2\n",
    "\n",
    "nx = 21\n",
    "ny = 21\n",
    "nt = 300\n",
    "\n",
    "dx = L/(nx-1)\n",
    "dy = H/(ny-1)\n",
    "\n",
    "x = numpy.linspace(0,L,nx)\n",
    "y = numpy.linspace(0,H,ny)\n",
    "\n",
    "T_bc = 100\n",
    "\n",
    "Ti = numpy.ones((ny, nx))*20\n",
    "Ti[0,:]= T_bc\n",
    "Ti[:,0] = T_bc"
   ]
  },
  {
   "cell_type": "code",
   "execution_count": 20,
   "metadata": {
    "collapsed": true
   },
   "outputs": [],
   "source": [
    "sigma = 0.25\n",
    "A = constructMatrix(nx, ny, sigma)"
   ]
  },
  {
   "cell_type": "code",
   "execution_count": 21,
   "metadata": {
    "collapsed": false
   },
   "outputs": [
    {
     "name": "stdout",
     "output_type": "stream",
     "text": [
      "Center has not reached 70C yet, it is only 68.95C.\n"
     ]
    }
   ],
   "source": [
    "dt = sigma * numpy.min(dx, dy)**2 / alpha\n",
    "T = btcs_2D(Ti.copy(), A, nt, sigma, T_bc, nx, ny, dt)"
   ]
  },
  {
   "cell_type": "code",
   "execution_count": 22,
   "metadata": {
    "collapsed": true
   },
   "outputs": [],
   "source": [
    "from matplotlib import pyplot\n",
    "%matplotlib inline\n",
    "from matplotlib import rcParams, cm\n",
    "rcParams['font.family'] = 'serif'\n",
    "rcParams['font.size'] = 16"
   ]
  },
  {
   "cell_type": "code",
   "execution_count": 23,
   "metadata": {
    "collapsed": false
   },
   "outputs": [
    {
     "data": {
      "image/png": "[encoded data removed]",
      "text/plain": [
       "<matplotlib.figure.Figure at 0x7f09a40b42e8>"
      ]
     },
     "metadata": {},
     "output_type": "display_data"
    }
   ],
   "source": [
    "pyplot.figure(figsize=(7,7))\n",
    "pyplot.contourf(x,y,T,20, cmap=cm.viridis);"
   ]
  },
  {
   "cell_type": "code",
   "execution_count": null,
   "metadata": {
    "collapsed": true
   },
   "outputs": [],
   "source": []
  }
 ],
 "metadata": {
  "anaconda-cloud": {},
  "kernelspec": {
   "display_name": "Python [default]",
   "language": "python",
   "name": "python3"
  }
 },
 "nbformat": 4,
 "nbformat_minor": 1
}
