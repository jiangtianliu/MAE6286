{
 "cells": [
  {
   "cell_type": "code",
   "execution_count": 96,
   "metadata": {
    "collapsed": false
   },
   "outputs": [],
   "source": [
    "import numpy\n",
    "from matplotlib import pyplot\n",
    "%matplotlib inline"
   ]
  },
  {
   "cell_type": "code",
   "execution_count": 97,
   "metadata": {
    "collapsed": true
   },
   "outputs": [],
   "source": [
    "###Paramaters\n",
    "nx = 81\n",
    "dx = 0.25\n",
    "dt = 0.0002\n",
    "gamma =1.4"
   ]
  },
  {
   "cell_type": "code",
   "execution_count": 98,
   "metadata": {
    "collapsed": false
   },
   "outputs": [],
   "source": [
    "###Initial conditions\n",
    "x = numpy.linspace(-10, 10, nx)\n",
    "rho_IC = numpy.empty(nx)\n",
    "u_IC = numpy.empty(nx)\n",
    "p_IC = numpy.empty(nx)\n",
    "\n",
    "for i in range(len(x)):\n",
    "    if x[i]<0:\n",
    "        rho_IC[i] = 1\n",
    "        u_IC[i] = 0\n",
    "        p_IC[i] = 100\n",
    "    else:\n",
    "        rho_IC[i] = 0.125\n",
    "        u_IC[i] = 0\n",
    "        p_IC[i] = 10"
   ]
  },
  {
   "cell_type": "code",
   "execution_count": 99,
   "metadata": {
    "collapsed": false
   },
   "outputs": [],
   "source": [
    "rho = rho_IC\n",
    "u = u_IC\n",
    "p = p_IC"
   ]
  },
  {
   "cell_type": "code",
   "execution_count": 100,
   "metadata": {
    "collapsed": false
   },
   "outputs": [],
   "source": [
    "###Time steps\n",
    "T = 0.01\n",
    "nt = int(T/dt)+1\n",
    "t = numpy.linspace(0, 0.01, nt)"
   ]
  },
  {
   "cell_type": "code",
   "execution_count": 101,
   "metadata": {
    "collapsed": true
   },
   "outputs": [],
   "source": [
    "def compute_eT(rho, p):\n",
    "    \n",
    "    e = p/(gamma - 1)/rho\n",
    "    \n",
    "    return e + 0.5*u**2"
   ]
  },
  {
   "cell_type": "code",
   "execution_count": 102,
   "metadata": {
    "collapsed": false
   },
   "outputs": [],
   "source": [
    "def U(rho, u, p):\n",
    "    \n",
    "    eT = compute_eT(rho, p)\n",
    "    \n",
    "    return numpy.array([rho, rho*u, rho*eT])"
   ]
  },
  {
   "cell_type": "code",
   "execution_count": 103,
   "metadata": {
    "collapsed": false
   },
   "outputs": [],
   "source": [
    "def f(U):\n",
    "    \n",
    "    eT = compute_eT(rho, p)\n",
    "    \n",
    "    return numpy.array([U[1], \\\n",
    "                        U[1]**2/U[0]+(gamma-1)*(U[2]-0.5*U[1]**2/U[0]), \\\n",
    "                       (U[2]+(gamma-1)*(U[2]-0.5*U[1]**2/U[0]))*U[1]/U[0]])"
   ]
  },
  {
   "cell_type": "code",
   "execution_count": 109,
   "metadata": {
    "collapsed": false
   },
   "outputs": [
    {
     "ename": "SyntaxError",
     "evalue": "invalid syntax (<ipython-input-109-6eaccc257c13>, line 8)",
     "output_type": "error",
     "traceback": [
      "\u001b[0;36m  File \u001b[0;32m\"<ipython-input-109-6eaccc257c13>\"\u001b[0;36m, line \u001b[0;32m8\u001b[0m\n\u001b[0;31m    u_nn[:-2] = 0.5*(u_1[1:-1]+u_1[:-2])    - (dt/2/dx)*F([:,1:-1]-F[:,:-2])\u001b[0m\n\u001b[0m                                                           ^\u001b[0m\n\u001b[0;31mSyntaxError\u001b[0m\u001b[0;31m:\u001b[0m invalid syntax\n"
     ]
    }
   ],
   "source": [
    "u_1 = U(rho, u, p)\n",
    "u_nn = numpy.empty_like(u_1)\n",
    "\n",
    "for n in range(nt):\n",
    "    u_1 = u_nn.copy()\n",
    "    F = f(u_1)\n",
    "    eT = compute(u_nn[0], u_nn[2])\n",
    "    u_nn[:-2] = 0.5*(u_1[1:-1]+u_1[:-2])\\\n",
    "    - (dt/2/dx)*F([:,1:-1]-F[:,:-2])"
   ]
  },
  {
   "cell_type": "code",
   "execution_count": null,
   "metadata": {
    "collapsed": true
   },
   "outputs": [],
   "source": []
  }
 ],
 "metadata": {
  "anaconda-cloud": {},
  "kernelspec": {
   "display_name": "Python [default]",
   "language": "python",
   "name": "python3"
  },
  "language_info": {
   "codemirror_mode": {
    "name": "ipython",
    "version": 3
   },
   "file_extension": ".py",
   "mimetype": "text/x-python",
   "name": "python",
   "nbconvert_exporter": "python",
   "pygments_lexer": "ipython3",
   "version": "3.5.2"
  }
 },
 "nbformat": 4,
 "nbformat_minor": 1
}
