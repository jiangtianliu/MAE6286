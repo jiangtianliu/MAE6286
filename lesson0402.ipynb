{
 "cells": [
  {
   "cell_type": "code",
   "execution_count": 1,
   "metadata": {
    "collapsed": true
   },
   "outputs": [],
   "source": [
    "import numpy\n",
    "from matplotlib import pyplot\n",
    "%matplotlib inline"
   ]
  },
  {
   "cell_type": "code",
   "execution_count": 2,
   "metadata": {
    "collapsed": true
   },
   "outputs": [],
   "source": [
    "L = 1.\n",
    "nt = 100\n",
    "nx = 51\n",
    "alpha = 1.22e-3\n",
    "\n",
    "q = 0.\n",
    "dx = L/(nx-1)\n",
    "\n",
    "qdx = q*dx\n",
    "\n",
    "Ti = numpy.zeros(nx)\n",
    "Ti[0] = 100"
   ]
  },
  {
   "cell_type": "code",
   "execution_count": 3,
   "metadata": {
    "collapsed": true
   },
   "outputs": [],
   "source": [
    "from scipy.linalg import solve"
   ]
  },
  {
   "cell_type": "code",
   "execution_count": 4,
   "metadata": {
    "collapsed": true
   },
   "outputs": [],
   "source": [
    "def generateMatrix(N, sigma):\n",
    "    \n",
    "    d = numpy.diag(numpy.ones(N-2)*(2+1./sigma))\n",
    "    \n",
    "    d[-1, -1] = 1+1./sigma\n",
    "    \n",
    "    ud = numpy.diag(numpy.ones(N-3)*-1, 1)\n",
    "    \n",
    "    ld = numpy.diag(numpy.ones(N-3)*-1, -1)\n",
    "    \n",
    "    A = d + ud + ld\n",
    "    \n",
    "    return A"
   ]
  },
  {
   "cell_type": "code",
   "execution_count": 5,
   "metadata": {
    "collapsed": true
   },
   "outputs": [],
   "source": [
    "def generateRHS(T, sigam, qdx):\n",
    "    \n",
    "    b = T[1:-1]*1./sigma\n",
    "    \n",
    "    b[0] += T[0]\n",
    "    \n",
    "    b[-1] += qdx\n",
    "    \n",
    "    return b"
   ]
  },
  {
   "cell_type": "code",
   "execution_count": 6,
   "metadata": {
    "collapsed": true
   },
   "outputs": [],
   "source": [
    "def implicit_btcs(T, A, nt, sigma, qdx):\n",
    "    \n",
    "    for t in range(nt):\n",
    "        Tn =T.copy()\n",
    "        b = generateRHS(Tn, sigma, qdx)\n",
    "        \n",
    "        T_interior = solve(A, b)\n",
    "        T[1:-1] = T_interior\n",
    "        \n",
    "        T[-1] = T[-2] +qdx\n",
    "        \n",
    "    return T"
   ]
  },
  {
   "cell_type": "code",
   "execution_count": 7,
   "metadata": {
    "collapsed": true
   },
   "outputs": [],
   "source": [
    "sigma = 0.5\n",
    "dt = sigma*dx*dx/alpha\n",
    "\n",
    "A = generateMatrix(nx, sigma)"
   ]
  },
  {
   "cell_type": "code",
   "execution_count": 8,
   "metadata": {
    "collapsed": false
   },
   "outputs": [
    {
     "name": "stdout",
     "output_type": "stream",
     "text": [
      "[[ 4. -1.  0. ...,  0.  0.  0.]\n",
      " [-1.  4. -1. ...,  0.  0.  0.]\n",
      " [ 0. -1.  4. ...,  0.  0.  0.]\n",
      " ..., \n",
      " [ 0.  0.  0. ...,  4. -1.  0.]\n",
      " [ 0.  0.  0. ..., -1.  4. -1.]\n",
      " [ 0.  0.  0. ...,  0. -1.  3.]]\n"
     ]
    }
   ],
   "source": [
    "print(A)"
   ]
  },
  {
   "cell_type": "code",
   "execution_count": 9,
   "metadata": {
    "collapsed": true
   },
   "outputs": [],
   "source": [
    "T = implicit_btcs(Ti.copy(), A, nt, sigma, qdx)"
   ]
  },
  {
   "cell_type": "code",
   "execution_count": 10,
   "metadata": {
    "collapsed": false
   },
   "outputs": [
    {
     "data": {
      "image/png": "[encoded data removed]",
      "text/plain": [
       "<matplotlib.figure.Figure at 0x7f2f28bc6dd8>"
      ]
     },
     "metadata": {},
     "output_type": "display_data"
    }
   ],
   "source": [
    "pyplot.plot(numpy.linspace(0, 1, nx), T, color='#003366', ls='-', lw=3);"
   ]
  },
  {
   "cell_type": "code",
   "execution_count": 11,
   "metadata": {
    "collapsed": false
   },
   "outputs": [
    {
     "data": {
      "image/png": "[encoded data removed]",
      "text/plain": [
       "<matplotlib.figure.Figure at 0x7f2f4861e278>"
      ]
     },
     "metadata": {},
     "output_type": "display_data"
    }
   ],
   "source": [
    "sigma = 5.0\n",
    "\n",
    "A = generateMatrix(nx, sigma)\n",
    "\n",
    "T = implicit_btcs(T.copy(), A, nt, sigma, qdx)\n",
    "\n",
    "pyplot.plot(numpy.linspace(0,1,nx), T, color='#003366', ls='-', lw=3);"
   ]
  },
  {
   "cell_type": "code",
   "execution_count": null,
   "metadata": {
    "collapsed": true
   },
   "outputs": [],
   "source": []
  }
 ],
 "metadata": {
  "kernelspec": {
   "display_name": "Python [default]",
   "language": "python",
   "name": "python3"
  },
  "language_info": {
   "codemirror_mode": {
    "name": "ipython",
    "version": 3
   },
   "file_extension": ".py",
   "mimetype": "text/x-python",
   "name": "python",
   "nbconvert_exporter": "python",
   "pygments_lexer": "ipython3",
   "version": "3.5.2"
  }
 },
 "nbformat": 4,
 "nbformat_minor": 1
}
