{
 "cells": [
  {
   "cell_type": "code",
   "execution_count": 126,
   "metadata": {
    "collapsed": false
   },
   "outputs": [],
   "source": [
    "from math import sin, cos, log, ceil\n",
    "import numpy\n",
    "from matplotlib import pyplot\n",
    "%matplotlib inline"
   ]
  },
  {
   "cell_type": "code",
   "execution_count": 215,
   "metadata": {
    "collapsed": false
   },
   "outputs": [],
   "source": [
    "# model parameters:\n",
    "g = 9.8      # gravity in m s^{-2}\n",
    "v_t = 4.9   # trim velocity in m s^{-1}   \n",
    "C_D = 1/5  # drag coefficient --- or D/L if C_L=1\n",
    "C_L = 1   # for convenience, use C_L = 1\n",
    "\n",
    "### set initial conditions ###\n",
    "v0 = 8     # start at the trim velocity (or add a delta)\n",
    "theta0 = 0 # initial angle of trajectory\n",
    "x0 = 0     # horizotal position is arbitrary\n",
    "y0 = 1.8  # initial altitude"
   ]
  },
  {
   "cell_type": "code",
   "execution_count": 216,
   "metadata": {
    "collapsed": true
   },
   "outputs": [],
   "source": [
    "def f(u):\n",
    "    \n",
    "    v = u[0]\n",
    "    theta = u[1]\n",
    "    x = u[2]\n",
    "    y = u[3]\n",
    "    return numpy.array([-g*sin(theta) - C_D/C_L*g/v_t**2*v**2,\n",
    "                      -g*cos(theta)/v + g/v_t**2*v,\n",
    "                      v*cos(theta),\n",
    "                      v*sin(theta)])"
   ]
  },
  {
   "cell_type": "code",
   "execution_count": 217,
   "metadata": {
    "collapsed": true
   },
   "outputs": [],
   "source": [
    "def euler_step(u, f, dt):\n",
    "    \n",
    "    return u + dt * f(u)"
   ]
  },
  {
   "cell_type": "code",
   "execution_count": 218,
   "metadata": {
    "collapsed": false
   },
   "outputs": [],
   "source": [
    "T = 100                          # final time\n",
    "dt = 0.1                           # time increment\n",
    "N = int(T/dt) + 1                  # number of time-steps\n",
    "t = numpy.linspace(0, T, N)      # time discretization\n",
    "\n",
    "# initialize the array containing the solution for each time-step\n",
    "u = numpy.empty((N, 4))\n",
    "u[0] = numpy.array([v0, theta0, x0, y0])# fill 1st element with initial values\n",
    "\n",
    "# time loop - Euler method\n",
    "for n in range(N-1):\n",
    "    \n",
    "    u[n+1] = euler_step(u[n], f, dt)"
   ]
  },
  {
   "cell_type": "code",
   "execution_count": 219,
   "metadata": {
    "collapsed": true
   },
   "outputs": [],
   "source": [
    "x = u[:, 2]\n",
    "y = u[:, 3]"
   ]
  },
  {
   "cell_type": "code",
   "execution_count": 220,
   "metadata": {
    "collapsed": false
   },
   "outputs": [
    {
     "data": {
      "image/png": "[encoded data removed]",
      "text/plain": [
       "<matplotlib.figure.Figure at 0x7f5c4d552208>"
      ]
     },
     "metadata": {},
     "output_type": "display_data"
    }
   ],
   "source": [
    "pyplot.figure(figsize=(6,4))\n",
    "pyplot.grid(True)\n",
    "pyplot.ylim(-5, 5)\n",
    "pyplot.xlim(0, 10)\n",
    "pyplot.xlabel(r'x', fontsize=18)\n",
    "pyplot.ylabel(r'y', fontsize=18)\n",
    "pyplot.plot(x,y, 'k-', lw=2);"
   ]
  },
  {
   "cell_type": "code",
   "execution_count": 155,
   "metadata": {
    "collapsed": false
   },
   "outputs": [
    {
     "name": "stdout",
     "output_type": "stream",
     "text": [
      "t= 3.60\n",
      "t= 3.70\n",
      "t= 3.80\n",
      "t= 3.90\n",
      "t= 4.00\n",
      "t= 4.10\n",
      "t= 4.20\n",
      "t= 5.10\n",
      "t= 5.20\n",
      "t= 5.30\n",
      "t= 5.40\n",
      "t= 5.50\n",
      "t= 5.60\n",
      "t= 5.70\n",
      "t= 5.80\n",
      "t= 5.90\n",
      "t= 6.00\n",
      "t= 6.10\n",
      "t= 6.20\n",
      "t= 6.30\n",
      "t= 6.40\n",
      "t= 6.50\n",
      "t= 6.60\n",
      "t= 6.70\n",
      "t= 6.80\n",
      "t= 6.90\n",
      "t= 7.00\n",
      "t= 7.10\n",
      "t= 7.20\n",
      "t= 7.30\n",
      "t= 7.40\n",
      "t= 7.50\n",
      "t= 7.60\n",
      "t= 7.70\n",
      "t= 7.80\n",
      "t= 7.90\n",
      "t= 8.00\n",
      "t= 8.10\n",
      "t= 8.20\n",
      "t= 8.30\n",
      "t= 8.40\n",
      "t= 8.50\n",
      "t= 8.60\n",
      "t= 8.70\n",
      "t= 8.80\n",
      "t= 8.90\n",
      "t= 9.00\n",
      "t= 9.10\n",
      "t= 9.20\n",
      "t= 9.30\n",
      "t= 9.40\n",
      "t= 9.50\n",
      "t= 9.60\n",
      "t= 9.70\n",
      "t= 9.80\n",
      "t= 9.90\n",
      "t= 10.00\n",
      "t= 10.10\n",
      "t= 10.20\n",
      "t= 10.30\n",
      "t= 10.40\n",
      "t= 10.50\n",
      "t= 10.60\n",
      "t= 10.70\n",
      "t= 10.80\n",
      "t= 10.90\n",
      "t= 11.00\n",
      "t= 11.10\n",
      "t= 11.20\n",
      "t= 11.30\n",
      "t= 11.40\n",
      "t= 11.50\n",
      "t= 11.60\n",
      "t= 11.70\n",
      "t= 11.80\n",
      "t= 11.90\n",
      "t= 12.00\n",
      "t= 12.10\n",
      "t= 12.20\n",
      "t= 12.30\n",
      "t= 12.40\n",
      "t= 12.50\n",
      "t= 12.60\n",
      "t= 12.70\n",
      "t= 12.80\n",
      "t= 12.90\n",
      "t= 13.00\n",
      "t= 13.10\n",
      "t= 13.20\n",
      "t= 13.30\n",
      "t= 13.40\n",
      "t= 13.50\n",
      "t= 13.60\n",
      "t= 13.70\n",
      "t= 13.80\n",
      "t= 13.90\n",
      "t= 14.00\n",
      "t= 14.10\n",
      "t= 14.20\n",
      "t= 14.30\n",
      "t= 14.40\n",
      "t= 14.50\n",
      "t= 14.60\n",
      "t= 14.70\n",
      "t= 14.80\n",
      "t= 14.90\n",
      "t= 15.00\n",
      "t= 15.10\n",
      "t= 15.20\n",
      "t= 15.30\n",
      "t= 15.40\n",
      "t= 15.50\n",
      "t= 15.60\n",
      "t= 15.70\n",
      "t= 15.80\n",
      "t= 15.90\n",
      "t= 16.00\n",
      "t= 16.10\n",
      "t= 16.20\n",
      "t= 16.30\n",
      "t= 16.40\n",
      "t= 16.50\n",
      "t= 16.60\n",
      "t= 16.70\n",
      "t= 16.80\n",
      "t= 16.90\n",
      "t= 17.00\n",
      "t= 17.10\n",
      "t= 17.20\n",
      "t= 17.30\n",
      "t= 17.40\n",
      "t= 17.50\n",
      "t= 17.60\n",
      "t= 17.70\n",
      "t= 17.80\n",
      "t= 17.90\n",
      "t= 18.00\n",
      "t= 18.10\n",
      "t= 18.20\n",
      "t= 18.30\n",
      "t= 18.40\n",
      "t= 18.50\n",
      "t= 18.60\n",
      "t= 18.70\n",
      "t= 18.80\n",
      "t= 18.90\n",
      "t= 19.00\n",
      "t= 19.10\n",
      "t= 19.20\n",
      "t= 19.30\n",
      "t= 19.40\n",
      "t= 19.50\n",
      "t= 19.60\n",
      "t= 19.70\n",
      "t= 19.80\n",
      "t= 19.90\n",
      "t= 20.00\n"
     ]
    }
   ],
   "source": [
    "for n in range(N):\n",
    "    if y[n]<=0.0:\n",
    "        print('t= %.*f' % (2, dt*n))"
   ]
  },
  {
   "cell_type": "code",
   "execution_count": 142,
   "metadata": {
    "collapsed": false
   },
   "outputs": [
    {
     "name": "stderr",
     "output_type": "stream",
     "text": [
      "/home/gil/anaconda3/lib/python3.5/site-packages/ipykernel/__main__.py:1: DeprecationWarning: using a non-integer number instead of an integer will result in an error in the future\n",
      "  if __name__ == '__main__':\n"
     ]
    },
    {
     "data": {
      "text/plain": [
       "6.1705035936287285"
      ]
     },
     "execution_count": 142,
     "metadata": {},
     "output_type": "execute_result"
    }
   ],
   "source": [
    "x[1.8/dt]"
   ]
  },
  {
   "cell_type": "code",
   "execution_count": null,
   "metadata": {
    "collapsed": true
   },
   "outputs": [],
   "source": []
  },
  {
   "cell_type": "code",
   "execution_count": null,
   "metadata": {
    "collapsed": true
   },
   "outputs": [],
   "source": []
  }
 ],
 "metadata": {
  "anaconda-cloud": {},
  "kernelspec": {
   "display_name": "Python [default]",
   "language": "python",
   "name": "python3"
  },
  "language_info": {
   "codemirror_mode": {
    "name": "ipython",
    "version": 3
   },
   "file_extension": ".py",
   "mimetype": "text/x-python",
   "name": "python",
   "nbconvert_exporter": "python",
   "pygments_lexer": "ipython3",
   "version": "3.5.2"
  }
 },
 "nbformat": 4,
 "nbformat_minor": 1
}
