{
 "cells": [
  {
   "cell_type": "code",
   "execution_count": 20,
   "metadata": {
    "collapsed": false
   },
   "outputs": [],
   "source": [
    "%matplotlib inline\n",
    "import numpy \n",
    "from matplotlib import pyplot\n",
    "from matplotlib import rcParams\n",
    "rcParams['font.family'] = 'serif'\n",
    "rcParams['font.size'] = 16"
   ]
  },
  {
   "cell_type": "code",
   "execution_count": 21,
   "metadata": {
    "collapsed": true
   },
   "outputs": [],
   "source": [
    "def rho_red_light(nx, rho_max, rho_in):\n",
    "    \n",
    "    rho = rho_max*numpy.ones(nx)\n",
    "    rho[0:int(nx-1)*3./4.] = rho_in\n",
    "    return rho"
   ]
  },
  {
   "cell_type": "code",
   "execution_count": 22,
   "metadata": {
    "collapsed": false
   },
   "outputs": [
    {
     "name": "stderr",
     "output_type": "stream",
     "text": [
      "/home/gil/anaconda3/lib/python3.5/site-packages/ipykernel/__main__.py:4: DeprecationWarning: using a non-integer number instead of an integer will result in an error in the future\n"
     ]
    }
   ],
   "source": [
    "nx = 81\n",
    "nt = 30\n",
    "dx = 4.0/(nx - 1)\n",
    "\n",
    "rho_in = 5.0\n",
    "rho_max = 10.0\n",
    "u_max = 1.0\n",
    "\n",
    "x = numpy.linspace(0, 4, nx)\n",
    "\n",
    "rho = rho_red_light(nx, rho_max, rho_in)"
   ]
  },
  {
   "cell_type": "code",
   "execution_count": 23,
   "metadata": {
    "collapsed": false
   },
   "outputs": [
    {
     "data": {
      "image/png": "[encoded data removed]",
      "text/plain": [
       "<matplotlib.figure.Figure at 0x7fbed487a9e8>"
      ]
     },
     "metadata": {},
     "output_type": "display_data"
    }
   ],
   "source": [
    "pyplot.plot(x, rho, color='#003366', ls='-',lw=3)\n",
    "pyplot.ylabel('Traffic density')\n",
    "pyplot.xlabel('Distance')\n",
    "pyplot.ylim(0, 11.0);"
   ]
  },
  {
   "cell_type": "code",
   "execution_count": 24,
   "metadata": {
    "collapsed": true
   },
   "outputs": [],
   "source": [
    "def computeF(u_max, rho_max, rho):\n",
    "    \n",
    "    return u_max*rho*(1-rho/rho_max)"
   ]
  },
  {
   "cell_type": "code",
   "execution_count": 25,
   "metadata": {
    "collapsed": true
   },
   "outputs": [],
   "source": [
    "from matplotlib import animation\n",
    "from IPython.display import HTML"
   ]
  },
  {
   "cell_type": "code",
   "execution_count": 26,
   "metadata": {
    "collapsed": true
   },
   "outputs": [],
   "source": [
    "def animate(data):\n",
    "    x = numpy.linspace(0,4,nx)\n",
    "    y = data\n",
    "    line.set_data(x,y)\n",
    "    return line,"
   ]
  },
  {
   "cell_type": "code",
   "execution_count": 27,
   "metadata": {
    "collapsed": false
   },
   "outputs": [],
   "source": [
    "### Try the FTCS method\n",
    "def ftcs(rho, nt, dt, dx, rho_max, u_max):\n",
    "    rho_n = 5*numpy.ones((nt, len(rho)))\n",
    "    rho_n[0,:] = rho.copy()\n",
    "    for t in range(1, nt):\n",
    "        F = computeF(u_max, rho_max, rho)\n",
    "        rho_n[t,1:-1] = rho[1:-1] - dt/dx/2*(F[2:]-F[0:-2])\n",
    "        rho_n[t,0] = rho[0]\n",
    "        rho = rho_n[t].copy()\n",
    "    return rho_n"
   ]
  },
  {
   "cell_type": "code",
   "execution_count": 28,
   "metadata": {
    "collapsed": false
   },
   "outputs": [
    {
     "name": "stderr",
     "output_type": "stream",
     "text": [
      "/home/gil/anaconda3/lib/python3.5/site-packages/ipykernel/__main__.py:3: RuntimeWarning: overflow encountered in multiply\n",
      "  app.launch_new_instance()\n",
      "/home/gil/anaconda3/lib/python3.5/site-packages/ipykernel/__main__.py:7: RuntimeWarning: invalid value encountered in subtract\n"
     ]
    }
   ],
   "source": [
    "sigma = 1.\n",
    "dt = sigma*2*dx\n",
    "rho_n = ftcs(rho, nt, dt, dx, rho_max, u_max)"
   ]
  },
  {
   "cell_type": "code",
   "execution_count": 32,
   "metadata": {
    "collapsed": false
   },
   "outputs": [
    {
     "data": {
      "image/png": "[encoded data removed]",
      "text/plain": [
       "<matplotlib.figure.Figure at 0x7fbecfb4ba20>"
      ]
     },
     "metadata": {},
     "output_type": "display_data"
    }
   ],
   "source": [
    "pyplot.plot(x, rho)\n",
    "pyplot.ylim(0, 11);"
   ]
  },
  {
   "cell_type": "code",
   "execution_count": null,
   "metadata": {
    "collapsed": true
   },
   "outputs": [],
   "source": []
  }
 ],
 "metadata": {
  "anaconda-cloud": {},
  "kernelspec": {
   "display_name": "Python [default]",
   "language": "python",
   "name": "python3"
  },
  "language_info": {
   "codemirror_mode": {
    "name": "ipython",
    "version": 3
   },
   "file_extension": ".py",
   "mimetype": "text/x-python",
   "name": "python",
   "nbconvert_exporter": "python",
   "pygments_lexer": "ipython3",
   "version": "3.5.2"
  }
 },
 "nbformat": 4,
 "nbformat_minor": 1
}
