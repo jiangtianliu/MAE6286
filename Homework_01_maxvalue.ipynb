{
 "cells": [
  {
   "cell_type": "markdown",
   "metadata": {},
   "source": [
    "# Equation of motion for the rocket"
   ]
  },
  {
   "cell_type": "markdown",
   "metadata": {},
   "source": [
    "\\begin{align}\n",
    "\\frac{dh}{dt} &= v\\\\\n",
    "(m_s+m_p) \\frac{dv}{dt}& = -(m_s+m_p)g + \\dot{m}_pv_e - \\frac{1}{2}\\rho v|v|AC_D\n",
    "\\end{align}"
   ]
  },
  {
   "cell_type": "markdown",
   "metadata": {},
   "source": [
    "# Euler's method to solve this problem"
   ]
  },
  {
   "cell_type": "code",
   "execution_count": 53,
   "metadata": {
    "collapsed": true
   },
   "outputs": [],
   "source": [
    "import numpy\n",
    "import math\n",
    "from matplotlib import pyplot\n",
    "%matplotlib inline"
   ]
  },
  {
   "cell_type": "code",
   "execution_count": 54,
   "metadata": {
    "collapsed": false
   },
   "outputs": [],
   "source": [
    "T = 100.0\n",
    "dt = 0.1 #the timestep\n",
    "N = int(T/dt)+1\n",
    "t = numpy.arange(0.0, T + 0.1, 0.1)"
   ]
  },
  {
   "cell_type": "markdown",
   "metadata": {},
   "source": [
    "$$u_{n+1} = u_n + \\Delta t \\,f'(u_n).$$\n",
    "\\begin{align}\n",
    "h_{n+1} & = h_n + \\Delta t \\, h'_n \\\\\n",
    "v_{n+1} & = v_n + \\Delta t \\, v'_n.\n",
    "\\end{align}\n",
    "\\begin{align}\n",
    "v'_n & = {dv}/{dt} = (-(m_s+m_p)g + \\dot{m}_pv_e - \\frac{1}{2}\\rho v|v|AC_D)/(m_s+m_p)\n",
    "\\end{align}"
   ]
  },
  {
   "cell_type": "markdown",
   "metadata": {},
   "source": [
    "\\begin{align}\n",
    "u & = \\begin{pmatrix} h \\\\ v \\\\\n",
    "\\end{pmatrix}\n",
    "& f(u) & = \\begin{pmatrix} v \\\\ (-(m_s+m_p)g + \\dot{m}_pv_e - \\frac{1}{2}\\rho v|v|AC_D)/(m_s+m_p) \\end{pmatrix}.\n",
    "\\end{align}"
   ]
  },
  {
   "cell_type": "code",
   "execution_count": 55,
   "metadata": {
    "collapsed": false
   },
   "outputs": [],
   "source": [
    "### initial conditions ###\n",
    "h0 = 0\n",
    "v0 = 0\n",
    "h = numpy.zeros(N)\n",
    "h[0] = h0\n",
    "v = numpy.zeros(N)\n",
    "v[0] = v0\n",
    "u = numpy.array([h0, v0])"
   ]
  },
  {
   "cell_type": "code",
   "execution_count": 56,
   "metadata": {
    "collapsed": false
   },
   "outputs": [],
   "source": [
    "mp = numpy.empty(N)\n",
    "for i in range(0, len(t)):\n",
    "    if t[i] <= 5:\n",
    "        m_pdot = 20.0 # Propellant burn rate in kg/s\n",
    "        mp[i] = m_pdot\n",
    "    else:\n",
    "        m_pdot = 0.0\n",
    "        mp[i] = m_pdot"
   ]
  },
  {
   "cell_type": "code",
   "execution_count": 57,
   "metadata": {
    "collapsed": false
   },
   "outputs": [],
   "source": [
    "# model parameters:\n",
    "m_s = 50.0 #weight of the rocket shell in kg\n",
    "g = 9.81 #gravity in m s^{-2}\n",
    "rho = 1.091 #average air density in kg m^{-3}\n",
    "r = 0.5 #radius of the rocket in m\n",
    "A = math.pi * r**2 # maximum cross sectional area of the rocket\n",
    "v_e = 325.0 #exhaust speed in m/s\n",
    "C_D = 0.15 #drag coefficient\n",
    "m_p0 = 100.0 #initial weight of the rocket propellent\n",
    "m_p = m_p0 - t*mp"
   ]
  },
  {
   "cell_type": "code",
   "execution_count": 58,
   "metadata": {
    "collapsed": false
   },
   "outputs": [],
   "source": [
    "#time-loop using Euler's method\n",
    "for n in range(1, N):\n",
    "    u = u + dt*numpy.array([u[1], (-(m_s + m_p[n])*g + mp[n]*v_e - 0.5*rho*v[n]*abs(v[n])*A*C_D)/(m_s + m_p[n])])\n",
    "    h[n] = u[0]\n",
    "    v[n] = u[1]"
   ]
  },
  {
   "cell_type": "code",
   "execution_count": 59,
   "metadata": {
    "collapsed": false
   },
   "outputs": [
    {
     "data": {
      "image/png": "[encoded data removed]",
      "text/plain": [
       "<matplotlib.figure.Figure at 0x7ffb20039518>"
      ]
     },
     "metadata": {},
     "output_type": "display_data"
    }
   ],
   "source": [
    "pyplot.figure(figsize=(10,4))   #set plot size\n",
    "pyplot.ylim(0,10000)             #y-axis plot limits\n",
    "pyplot.tick_params(axis='both', labelsize=14) #increase font size for ticks\n",
    "pyplot.xlabel('t', fontsize=14) #x label\n",
    "pyplot.ylabel('h', fontsize=14) #y label\n",
    "pyplot.plot(t,h, 'k-');"
   ]
  },
  {
   "cell_type": "code",
   "execution_count": 60,
   "metadata": {
    "collapsed": false
   },
   "outputs": [
    {
     "data": {
      "image/png": "[encoded data removed]",
      "text/plain": [
       "<matplotlib.figure.Figure at 0x7ffb0e532e48>"
      ]
     },
     "metadata": {},
     "output_type": "display_data"
    }
   ],
   "source": [
    "pyplot.figure(figsize=(10,4))   #set plot size\n",
    "pyplot.ylim(0,500)             #y-axis plot limits\n",
    "pyplot.tick_params(axis='both', labelsize=14) #increase font size for ticks\n",
    "pyplot.xlabel('t', fontsize=14) #x label\n",
    "pyplot.ylabel('v', fontsize=14) #y label\n",
    "pyplot.plot(t,v, 'k-');"
   ]
  },
  {
   "cell_type": "code",
   "execution_count": 63,
   "metadata": {
    "collapsed": false
   },
   "outputs": [
    {
     "data": {
      "text/plain": [
       "5590.1750614996345"
      ]
     },
     "execution_count": 63,
     "metadata": {},
     "output_type": "execute_result"
    }
   ],
   "source": [
    "max(h)"
   ]
  },
  {
   "cell_type": "code",
   "execution_count": 64,
   "metadata": {
    "collapsed": false
   },
   "outputs": [
    {
     "data": {
      "text/plain": [
       "312.37083882651729"
      ]
     },
     "execution_count": 64,
     "metadata": {},
     "output_type": "execute_result"
    }
   ],
   "source": [
    "max(v)"
   ]
  },
  {
   "cell_type": "code",
   "execution_count": null,
   "metadata": {
    "collapsed": true
   },
   "outputs": [],
   "source": []
  }
 ],
 "metadata": {
  "anaconda-cloud": {},
  "kernelspec": {
   "display_name": "Python [default]",
   "language": "python",
   "name": "python3"
  },
  "language_info": {
   "codemirror_mode": {
    "name": "ipython",
    "version": 3
   },
   "file_extension": ".py",
   "mimetype": "text/x-python",
   "name": "python",
   "nbconvert_exporter": "python",
   "pygments_lexer": "ipython3",
   "version": "3.5.2"
  }
 },
 "nbformat": 4,
 "nbformat_minor": 1
}
