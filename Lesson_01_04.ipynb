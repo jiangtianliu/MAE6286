{
 "cells": [
  {
   "cell_type": "code",
   "execution_count": 1,
   "metadata": {
    "collapsed": true
   },
   "outputs": [],
   "source": [
    "from math import sin, cos, log"
   ]
  },
  {
   "cell_type": "code",
   "execution_count": 3,
   "metadata": {
    "collapsed": false
   },
   "outputs": [],
   "source": [
    "import numpy as np\n",
    "from matplotlib import pyplot\n",
    "%matplotlib inline\n",
    "from matplotlib import rcParams\n",
    "rcParams['font.family'] = 'serif'\n",
    "rcParams['font.size'] = 16"
   ]
  },
  {
   "cell_type": "code",
   "execution_count": 4,
   "metadata": {
    "collapsed": true
   },
   "outputs": [],
   "source": [
    "g = 9.8\n",
    "v_t = 4.9\n",
    "C_D = 1.0/5.0\n",
    "C_L = 1.0\n",
    "\n",
    "v0 = 6.5\n",
    "theta0 = -0.1\n",
    "x0 = 0.0\n",
    "y0 = 2.0"
   ]
  },
  {
   "cell_type": "code",
   "execution_count": 5,
   "metadata": {
    "collapsed": true
   },
   "outputs": [],
   "source": [
    "def f(u):\n",
    "    \n",
    "    v = u[0]\n",
    "    theta = u[1]\n",
    "    x = u[2]\n",
    "    y = u[3]\n",
    "    return np.array([-g*sin(theta) - C_D/C_L*g/v_t**2*v**2,\\\n",
    "                    -g*cos(theta)/v + g/v_t**2*v,\n",
    "                    v*cos(theta),\n",
    "                    v*sin(theta)])"
   ]
  },
  {
   "cell_type": "code",
   "execution_count": 10,
   "metadata": {
    "collapsed": true
   },
   "outputs": [],
   "source": [
    "def euler_step(u, f, dt):\n",
    "    return u + dt*f(u)\n",
    "\n",
    "def get_diffgrid(u_current, u_fine, dt):\n",
    "    \n",
    "    N_current = len(u_current[:,0])\n",
    "    N_fine = len(u_fine[:,0])\n",
    "    \n",
    "    grid_size_ratio = np.ceil(N_fine/N_current)\n",
    "    \n",
    "    diffgrid = dt * np.sum( np.abs(u_current[:,2] - u_fine[::grid_size_ratio,2]))\n",
    "    \n",
    "    return diffgrid"
   ]
  },
  {
   "cell_type": "code",
   "execution_count": 7,
   "metadata": {
    "collapsed": true
   },
   "outputs": [],
   "source": [
    "def rk2_step(u, f, dt):\n",
    "    \n",
    "    u_star = u + 0.5*dt*f(u)\n",
    "    return u + dt*f(u_star)"
   ]
  },
  {
   "cell_type": "code",
   "execution_count": 12,
   "metadata": {
    "collapsed": false
   },
   "outputs": [],
   "source": [
    "T = 15.0\n",
    "dt = 0.01\n",
    "N =int(T/dt) + 1\n",
    "\n",
    "u_euler = np.empty((N, 4))\n",
    "u_rk2 = np.empty((N, 4))\n",
    "\n",
    "u_euler[0] = np.array([v0, theta0, x0, y0])\n",
    "u_rk2[0] = np.array([v0, theta0, x0, y0])\n",
    "\n",
    "for n in range (N-1):\n",
    "    \n",
    "    u_euler[n+1] = euler_step(u_euler[n], f, dt)\n",
    "    u_rk2[n+1] = rk2_step(u_rk2[n], f, dt)"
   ]
  },
  {
   "cell_type": "code",
   "execution_count": 13,
   "metadata": {
    "collapsed": true
   },
   "outputs": [],
   "source": [
    "x_euler = u_euler[:,2]\n",
    "y_euler = u_euler[:,3]\n",
    "x_rk2 = u_rk2[:,2]\n",
    "y_rk2 = u_rk2[:,3]"
   ]
  },
  {
   "cell_type": "code",
   "execution_count": 16,
   "metadata": {
    "collapsed": false
   },
   "outputs": [],
   "source": [
    "idx_negative_euler = np.where(y_euler<0.0)[0]\n",
    "if len(idx_negative_euler) == 0:\n",
    "    idx_ground_euler = N-1\n",
    "    print ('Euler integration has not touched ground yet!')\n",
    "    \n",
    "else:\n",
    "    idx_ground_euler = idx_negative_euler[0]\n",
    "    \n",
    "idx_negative_rk2 = np.where(y_rk2<0.0)[0]\n",
    "if len(idx_negative_rk2) == 0:\n",
    "    idx_ground_rk2 = N-1\n",
    "    print ('Runge-Kutta integration has not touched ground yet!')\n",
    "    \n",
    "else:\n",
    "    idx_ground_rk2 = idx_negative_rk2[0]"
   ]
  },
  {
   "cell_type": "code",
   "execution_count": 17,
   "metadata": {
    "collapsed": false
   },
   "outputs": [
    {
     "name": "stdout",
     "output_type": "stream",
     "text": [
      "Are the x-values close? False\n",
      "Are the y-values close? False\n"
     ]
    }
   ],
   "source": [
    "print('Are the x-values close? {}'.format(np.allclose(x_euler, x_rk2)))\n",
    "print('Are the y-values close? {}'.format(np.allclose(y_euler, y_rk2)))"
   ]
  },
  {
   "cell_type": "code",
   "execution_count": 19,
   "metadata": {
    "collapsed": false
   },
   "outputs": [
    {
     "data": {
      "image/png": "[encoded data removed]",
      "text/plain": [
       "<matplotlib.figure.Figure at 0x7f8e04207128>"
      ]
     },
     "metadata": {},
     "output_type": "display_data"
    }
   ],
   "source": [
    "pyplot.figure(figsize=(10,6))\n",
    "pyplot.subplot(121)\n",
    "pyplot.grid(True)\n",
    "pyplot.xlabel('$x$')\n",
    "pyplot.ylabel('$y$')\n",
    "pyplot.plot(x_euler[:idx_ground_euler], y_euler[:idx_ground_euler], 'k-', label='Euler')\n",
    "pyplot.plot(x_rk2[:idx_ground_rk2], y_rk2[:idx_ground_rk2], 'r--', label='RK2')\n",
    "pyplot.title('distace traveled: {:.3f}'.format(x_rk2[idx_ground_rk2-1]))\n",
    "pyplot.legend();\n",
    "\n",
    "pyplot.subplot(122)\n",
    "pyplot.grid(True)\n",
    "pyplot.xlabel('$x$')\n",
    "pyplot.ylabel('$y$')\n",
    "pyplot.plot(x_euler, y_euler, 'k--', label='Euler')\n",
    "pyplot.plot(x_rk2, y_rk2, 'r--', label='RK2')\n",
    "pyplot.xlim(0, 5)\n",
    "pyplot.ylim(1.8, 2.5);"
   ]
  },
  {
   "cell_type": "code",
   "execution_count": null,
   "metadata": {
    "collapsed": true
   },
   "outputs": [],
   "source": []
  }
 ],
 "metadata": {
  "anaconda-cloud": {},
  "kernelspec": {
   "display_name": "Python [default]",
   "language": "python",
   "name": "python3"
  },
  "language_info": {
   "codemirror_mode": {
    "name": "ipython",
    "version": 3
   },
   "file_extension": ".py",
   "mimetype": "text/x-python",
   "name": "python",
   "nbconvert_exporter": "python",
   "pygments_lexer": "ipython3",
   "version": "3.5.2"
  }
 },
 "nbformat": 4,
 "nbformat_minor": 1
}
