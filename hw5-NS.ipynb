{
 "cells": [
  {
   "cell_type": "code",
   "execution_count": 22,
   "metadata": {
    "collapsed": true
   },
   "outputs": [],
   "source": [
    "from matplotlib import pyplot\n",
    "from matplotlib import numpy\n",
    "%matplotlib inline"
   ]
  },
  {
   "cell_type": "code",
   "execution_count": 23,
   "metadata": {
    "collapsed": true
   },
   "outputs": [],
   "source": [
    "#Parameters\n",
    "nx = 41\n",
    "ny = 41\n",
    "\n",
    "l = 1.\n",
    "h = 1.\n",
    "\n",
    "dx = l/(nx-1)\n",
    "dy = h/(ny-1)\n",
    "\n",
    "l1_target = 1e-6"
   ]
  },
  {
   "cell_type": "code",
   "execution_count": 24,
   "metadata": {
    "collapsed": true
   },
   "outputs": [],
   "source": [
    "def L1norm(new, old):\n",
    "    norm = numpy.sum(numpy.abs(new-old))\n",
    "    return norm"
   ]
  },
  {
   "cell_type": "code",
   "execution_count": 25,
   "metadata": {
    "collapsed": true
   },
   "outputs": [],
   "source": [
    "x = numpy.linspace(0, 1, nx)\n",
    "y = numpy.linspace(0, 1, ny)\n",
    "omega = numpy.zeros((nx, ny))\n",
    "thesi = numpy.zeros_like(omega)"
   ]
  },
  {
   "cell_type": "code",
   "execution_count": 13,
   "metadata": {
    "collapsed": false
   },
   "outputs": [],
   "source": [
    "def Stokes_flow(dx, dy, omega, thesi, l1_target):\n",
    "    \n",
    "    l2norm = 1\n",
    "    omega_n = numpy.empty_like(omega)\n",
    "    thesi_n = numpy.empty_like(thesi)\n",
    "    \n",
    "    while l2norm > l1_target:\n",
    "        \n",
    "        omega_n = omega.copy()\n",
    "        thesi_n = thesi.copy()\n",
    "        \n",
    "        omega[1:-1, 1:-1] = 0.25 * (omega_n[:-2, 1:-1] + omega_n[2:, 1:-1]\\\n",
    "                                   + omega_n[1:-1, :-2] + omega_n[1:-1, 2:])\n",
    "        thesi[1:-1, 1:-1] = 1/(2*(dx**2 + dy**2)) * \\\n",
    "                            ((thesi_n[1:-1,2:] + thesi_n[1:-1,:-2])*dy**2\\\n",
    "                             + (thesi_n[2:,1:-1] + thesi_n[:-2,1:-1])*dx**2\\\n",
    "                             + omega_n[1:-1,1:-1]*dx**2*dy**2)\n",
    "        #boundary conditions\n",
    "        #top\n",
    "        omega[-1,:] = -1/(2*dy**2)*(8*thesi[-2,:] - thesi[-3,:]) - 3*1/dy\n",
    "        #bottom\n",
    "        omega[0,:] = -1/(2*dy**2)*(8*thesi[1,:] - thesi[2,:])\n",
    "        #left\n",
    "        omega[:,0] = -1/(2*dx**2)*(8*thesi[:,1] - thesi[:,2])\n",
    "        #right\n",
    "        omega[:,-1] = -1/(2*dx**2)*(8*thesi[:,-2] - thesi[:,-3])\n",
    "        \n",
    "        a_1 = L1norm(omega, omega_n)\n",
    "        a_2 = L1norm(thesi, thesi_n)\n",
    "        \n",
    "        l2norm = max(a_1, a_2)\n",
    "        \n",
    "    result = numpy.array([omega, thesi])\n",
    "    return result\n",
    "        "
   ]
  },
  {
   "cell_type": "code",
   "execution_count": 14,
   "metadata": {
    "collapsed": false
   },
   "outputs": [
    {
     "data": {
      "text/plain": [
       "(41, 41)"
      ]
     },
     "execution_count": 14,
     "metadata": {},
     "output_type": "execute_result"
    }
   ],
   "source": [
    "numpy.shape(thesi)"
   ]
  },
  {
   "cell_type": "code",
   "execution_count": 15,
   "metadata": {
    "collapsed": false
   },
   "outputs": [],
   "source": [
    "final_result = Stokes_flow(dx, dy, omega, thesi, l1_target)"
   ]
  },
  {
   "cell_type": "code",
   "execution_count": 17,
   "metadata": {
    "collapsed": false
   },
   "outputs": [
    {
     "data": {
      "text/plain": [
       "array([[ -0.00000000e+00,  -7.28763699e-03,  -1.37943448e-02, ...,\n",
       "         -1.37943448e-02,  -7.28763699e-03,  -0.00000000e+00],\n",
       "       [ -7.31261353e-03,   2.04601149e-03,   1.14128837e-02, ...,\n",
       "          1.14128837e-02,   2.04601149e-03,  -7.31261353e-03],\n",
       "       [ -1.39941571e-02,   1.13714128e-02,   3.23148136e-02, ...,\n",
       "          3.23148136e-02,   1.13714128e-02,  -1.39941571e-02],\n",
       "       ..., \n",
       "       [  2.84608780e+01,   3.17800898e+00,  -7.89273450e+00, ...,\n",
       "         -7.89273450e+00,   3.17800898e+00,   2.84608780e+01],\n",
       "       [  3.61967434e+01,  -1.53446715e+01,  -2.25607772e+01, ...,\n",
       "         -2.25607772e+01,  -1.53446715e+01,   3.61967434e+01],\n",
       "       [ -0.00000000e+00,  -7.81926612e+01,  -4.66543587e+01, ...,\n",
       "         -4.66543587e+01,  -7.81926612e+01,  -0.00000000e+00]])"
      ]
     },
     "execution_count": 17,
     "metadata": {},
     "output_type": "execute_result"
    }
   ],
   "source": [
    "final_result[0]"
   ]
  },
  {
   "cell_type": "markdown",
   "metadata": {},
   "source": [
    "numpy.shape(final_result[0])"
   ]
  },
  {
   "cell_type": "code",
   "execution_count": 18,
   "metadata": {
    "collapsed": false
   },
   "outputs": [
    {
     "data": {
      "text/plain": [
       "array([[  0.00000000e+00,   0.00000000e+00,   0.00000000e+00, ...,\n",
       "          0.00000000e+00,   0.00000000e+00,   0.00000000e+00],\n",
       "       [  0.00000000e+00,   1.41429633e-06,   2.17360372e-06, ...,\n",
       "          2.17360372e-06,   1.41429633e-06,   0.00000000e+00],\n",
       "       [  0.00000000e+00,   2.20482440e-06,   1.45898838e-07, ...,\n",
       "          1.45898838e-07,   2.20482440e-06,   0.00000000e+00],\n",
       "       ..., \n",
       "       [  0.00000000e+00,  -6.35061518e-03,  -1.52288240e-02, ...,\n",
       "         -1.52288240e-02,  -6.35061518e-03,   0.00000000e+00],\n",
       "       [  0.00000000e+00,  -7.32622358e-03,  -1.33638594e-02, ...,\n",
       "         -1.33638594e-02,  -7.32622358e-03,   0.00000000e+00],\n",
       "       [  0.00000000e+00,   0.00000000e+00,   0.00000000e+00, ...,\n",
       "          0.00000000e+00,   0.00000000e+00,   0.00000000e+00]])"
      ]
     },
     "execution_count": 18,
     "metadata": {},
     "output_type": "execute_result"
    }
   ],
   "source": [
    "final_result[-1]"
   ]
  },
  {
   "cell_type": "code",
   "execution_count": 32,
   "metadata": {
    "collapsed": false
   },
   "outputs": [
    {
     "data": {
      "text/plain": [
       "array([[  0.00000000e+00,   0.00000000e+00,   0.00000000e+00, ...,\n",
       "          0.00000000e+00,   0.00000000e+00,   0.00000000e+00],\n",
       "       [  0.00000000e+00,   1.41429633e-06,   2.17360372e-06, ...,\n",
       "          2.17360372e-06,   1.41429633e-06,   0.00000000e+00],\n",
       "       [  0.00000000e+00,   2.20482440e-06,   1.45898838e-07, ...,\n",
       "          1.45898838e-07,   2.20482440e-06,   0.00000000e+00],\n",
       "       ..., \n",
       "       [  0.00000000e+00,   6.35061518e-03,   1.52288240e-02, ...,\n",
       "          1.52288240e-02,   6.35061518e-03,   0.00000000e+00],\n",
       "       [  0.00000000e+00,   7.32622358e-03,   1.33638594e-02, ...,\n",
       "          1.33638594e-02,   7.32622358e-03,   0.00000000e+00],\n",
       "       [  0.00000000e+00,   0.00000000e+00,   0.00000000e+00, ...,\n",
       "          0.00000000e+00,   0.00000000e+00,   0.00000000e+00]])"
      ]
     },
     "execution_count": 32,
     "metadata": {},
     "output_type": "execute_result"
    }
   ],
   "source": [
    "abs_thesi = numpy.abs(final_result[-1])\n",
    "abs_thesi"
   ]
  },
  {
   "cell_type": "code",
   "execution_count": 31,
   "metadata": {
    "collapsed": false
   },
   "outputs": [
    {
     "data": {
      "text/plain": [
       "0.099845172462224338"
      ]
     },
     "execution_count": 31,
     "metadata": {},
     "output_type": "execute_result"
    }
   ],
   "source": [
    "c = numpy.max(positive_thesi)\n",
    "c"
   ]
  },
  {
   "cell_type": "code",
   "execution_count": 33,
   "metadata": {
    "collapsed": false
   },
   "outputs": [
    {
     "data": {
      "text/plain": [
       "array([[  0.00000000e+00,   7.28763699e-03,   1.37943448e-02, ...,\n",
       "          1.37943448e-02,   7.28763699e-03,   0.00000000e+00],\n",
       "       [  7.31261353e-03,   2.04601149e-03,   1.14128837e-02, ...,\n",
       "          1.14128837e-02,   2.04601149e-03,   7.31261353e-03],\n",
       "       [  1.39941571e-02,   1.13714128e-02,   3.23148136e-02, ...,\n",
       "          3.23148136e-02,   1.13714128e-02,   1.39941571e-02],\n",
       "       ..., \n",
       "       [  2.84608780e+01,   3.17800898e+00,   7.89273450e+00, ...,\n",
       "          7.89273450e+00,   3.17800898e+00,   2.84608780e+01],\n",
       "       [  3.61967434e+01,   1.53446715e+01,   2.25607772e+01, ...,\n",
       "          2.25607772e+01,   1.53446715e+01,   3.61967434e+01],\n",
       "       [  0.00000000e+00,   7.81926612e+01,   4.66543587e+01, ...,\n",
       "          4.66543587e+01,   7.81926612e+01,   0.00000000e+00]])"
      ]
     },
     "execution_count": 33,
     "metadata": {},
     "output_type": "execute_result"
    }
   ],
   "source": [
    "abs_omega = numpy.abs(final_result[0])\n",
    "abs_omega"
   ]
  },
  {
   "cell_type": "code",
   "execution_count": 34,
   "metadata": {
    "collapsed": false
   },
   "outputs": [
    {
     "data": {
      "text/plain": [
       "78.192661228600699"
      ]
     },
     "execution_count": 34,
     "metadata": {},
     "output_type": "execute_result"
    }
   ],
   "source": [
    "c_1 = numpy.max(abs_omega)\n",
    "c_1"
   ]
  },
  {
   "cell_type": "code",
   "execution_count": 36,
   "metadata": {
    "collapsed": false
   },
   "outputs": [
    {
     "data": {
      "text/plain": [
       "array([ 0.    , -0.0575, -0.0944, -0.0944, -0.0575,  0.    ])"
      ]
     },
     "execution_count": 36,
     "metadata": {},
     "output_type": "execute_result"
    }
   ],
   "source": [
    "thesi_1 = final_result[-1]\n",
    "numpy.round(thesi_1[32,::8], 4)"
   ]
  },
  {
   "cell_type": "code",
   "execution_count": null,
   "metadata": {
    "collapsed": true
   },
   "outputs": [],
   "source": []
  }
 ],
 "metadata": {
  "anaconda-cloud": {},
  "kernelspec": {
   "display_name": "Python [default]",
   "language": "python",
   "name": "python3"
  },
  "language_info": {
   "codemirror_mode": {
    "name": "ipython",
    "version": 3
   },
   "file_extension": ".py",
   "mimetype": "text/x-python",
   "name": "python",
   "nbconvert_exporter": "python",
   "pygments_lexer": "ipython3",
   "version": "3.5.2"
  }
 },
 "nbformat": 4,
 "nbformat_minor": 1
}
