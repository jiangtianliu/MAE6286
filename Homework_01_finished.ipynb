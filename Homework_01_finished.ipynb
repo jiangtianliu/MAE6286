{
 "cells": [
  {
   "cell_type": "markdown",
   "metadata": {},
   "source": [
    "# Equation of motion for the rocket"
   ]
  },
  {
   "cell_type": "markdown",
   "metadata": {},
   "source": [
    "\\begin{align}\n",
    "\\frac{dh}{dt} &= v\\\\\n",
    "(m_s+m_p) \\frac{dv}{dt}& = -(m_s+m_p)g + \\dot{m}_pv_e - \\frac{1}{2}\\rho v|v|AC_D\n",
    "\\end{align}"
   ]
  },
  {
   "cell_type": "markdown",
   "metadata": {},
   "source": [
    "# Euler's method to solve this problem"
   ]
  },
  {
   "cell_type": "code",
   "execution_count": 222,
   "metadata": {
    "collapsed": true
   },
   "outputs": [],
   "source": [
    "import numpy\n",
    "import math\n",
    "from matplotlib import pyplot\n",
    "%matplotlib inline"
   ]
  },
  {
   "cell_type": "code",
   "execution_count": 236,
   "metadata": {
    "collapsed": false
   },
   "outputs": [],
   "source": [
    "T = 40.0\n",
    "dt = 0.1 #the timestep\n",
    "N = int(T/dt)+1\n",
    "t = numpy.arange(0.0, T + 0.1, 0.1)"
   ]
  },
  {
   "cell_type": "markdown",
   "metadata": {},
   "source": [
    "$$u_{n+1} = u_n + \\Delta t \\,f'(u_n).$$\n",
    "\\begin{align}\n",
    "h_{n+1} & = h_n + \\Delta t \\, h'_n \\\\\n",
    "v_{n+1} & = v_n + \\Delta t \\, v'_n.\n",
    "\\end{align}\n",
    "\\begin{align}\n",
    "v'_n & = {dv}/{dt} = (-(m_s+m_p)g + \\dot{m}_pv_e - \\frac{1}{2}\\rho v|v|AC_D)/(m_s+m_p)\n",
    "\\end{align}"
   ]
  },
  {
   "cell_type": "markdown",
   "metadata": {},
   "source": [
    "\\begin{align}\n",
    "u & = \\begin{pmatrix} h \\\\ v \\\\\n",
    "\\end{pmatrix}\n",
    "& f(u) & = \\begin{pmatrix} v \\\\ (-(m_s+m_p)g + \\dot{m}_pv_e - \\frac{1}{2}\\rho v|v|AC_D)/(m_s+m_p) \\end{pmatrix}.\n",
    "\\end{align}"
   ]
  },
  {
   "cell_type": "code",
   "execution_count": 237,
   "metadata": {
    "collapsed": false
   },
   "outputs": [],
   "source": [
    "### initial conditions ###\n",
    "h0 = 0\n",
    "v0 = 0\n",
    "h = numpy.zeros(N)\n",
    "h[0] = h0\n",
    "v = numpy.zeros(N)\n",
    "v[0] = v0\n",
    "u = numpy.array([h0, v0])"
   ]
  },
  {
   "cell_type": "code",
   "execution_count": 238,
   "metadata": {
    "collapsed": false
   },
   "outputs": [],
   "source": [
    "# model parameters:\n",
    "m_s = 50.0 #weight of the rocket shell in kg\n",
    "g = 9.81 #gravity in m s^{-2}\n",
    "rho = 1.091 #average air density in kg m^{-3}\n",
    "r = 0.5 #radius of the rocket in m\n",
    "A = math.pi * r**2 # maximum cross sectional area of the rocket\n",
    "v_e = 325.0 #exhaust speed in m/s\n",
    "C_D = 0.15 #drag coefficient\n",
    "m_p0 = 100.0 #initial weight of the rocket propellent"
   ]
  },
  {
   "cell_type": "code",
   "execution_count": 239,
   "metadata": {
    "collapsed": false
   },
   "outputs": [],
   "source": [
    "m_total = numpy.zeros(N)\n",
    "for n in range(0, N):\n",
    "    if n*dt < 5:\n",
    "        m_pdot = 20.0 # Propellant burn rate in kg/s\n",
    "        m_total = m_s + (m_p0-n*dt*m_pdot)\n",
    "        u = u + dt*numpy.array([u[1], (-m_total*g + m_pdot*v_e - 0.5*rho*u[1]*numpy.abs(u[1])*A*C_D)/m_total])\n",
    "    else:\n",
    "        m_pdot = 0.0\n",
    "        m_total = m_s\n",
    "        u = u + dt*numpy.array([u[1], (-m_total*g + m_pdot*v_e - 0.5*rho*u[1]*numpy.abs(u[1])*A*C_D)/m_total])\n",
    "        \n",
    "    h[n] = u[0]\n",
    "    v[n] = u[1]"
   ]
  },
  {
   "cell_type": "code",
   "execution_count": 240,
   "metadata": {
    "collapsed": false
   },
   "outputs": [
    {
     "data": {
      "image/png": "[encoded data removed]",
      "text/plain": [
       "<matplotlib.figure.Figure at 0x7ffb0e40d908>"
      ]
     },
     "metadata": {},
     "output_type": "display_data"
    }
   ],
   "source": [
    "pyplot.figure(figsize=(10,4))   #set plot size\n",
    "pyplot.grid(True)\n",
    "pyplot.ylim(0,2500)             #y-axis plot limits\n",
    "pyplot.tick_params(axis='both', labelsize=14) #increase font size for ticks\n",
    "pyplot.xlabel('t', fontsize=14) #x label\n",
    "pyplot.ylabel('h', fontsize=14) #y label\n",
    "pyplot.plot(t,h, 'k-');"
   ]
  },
  {
   "cell_type": "code",
   "execution_count": 241,
   "metadata": {
    "collapsed": false
   },
   "outputs": [
    {
     "data": {
      "image/png": "[encoded data removed]",
      "text/plain": [
       "<matplotlib.figure.Figure at 0x7ffb0e473dd8>"
      ]
     },
     "metadata": {},
     "output_type": "display_data"
    }
   ],
   "source": [
    "pyplot.figure(figsize=(10,4))   #set plot size\n",
    "pyplot.grid(True)\n",
    "pyplot.ylim(-200,300)             #y-axis plot limits\n",
    "pyplot.tick_params(axis='both', labelsize=14) #increase font size for ticks\n",
    "pyplot.xlabel('t', fontsize=14) #x label\n",
    "pyplot.ylabel('v', fontsize=14) #y label\n",
    "pyplot.plot(t,v, 'k-');"
   ]
  },
  {
   "cell_type": "code",
   "execution_count": 242,
   "metadata": {
    "collapsed": false
   },
   "outputs": [
    {
     "data": {
      "text/plain": [
       "1334.1829454303072"
      ]
     },
     "execution_count": 242,
     "metadata": {},
     "output_type": "execute_result"
    }
   ],
   "source": [
    "max(h)"
   ]
  },
  {
   "cell_type": "code",
   "execution_count": 243,
   "metadata": {
    "collapsed": false
   },
   "outputs": [
    {
     "data": {
      "text/plain": [
       "232.10613341261794"
      ]
     },
     "execution_count": 243,
     "metadata": {},
     "output_type": "execute_result"
    }
   ],
   "source": [
    "max(v)"
   ]
  },
  {
   "cell_type": "code",
   "execution_count": 244,
   "metadata": {
    "collapsed": false
   },
   "outputs": [
    {
     "name": "stdout",
     "output_type": "stream",
     "text": [
      "t = 15.60\n"
     ]
    }
   ],
   "source": [
    "for n in range(N):\n",
    "    if h[n] == max(h):\n",
    "        print(\"t = %.*f\" % (2,dt*n))"
   ]
  },
  {
   "cell_type": "code",
   "execution_count": 245,
   "metadata": {
    "collapsed": false
   },
   "outputs": [
    {
     "name": "stdout",
     "output_type": "stream",
     "text": [
      "t= 4.90\n"
     ]
    }
   ],
   "source": [
    "for n in range(N):\n",
    "    if v[n] == max(v):\n",
    "        print(\"t= %.*f\" % (2,dt*n))"
   ]
  },
  {
   "cell_type": "code",
   "execution_count": 246,
   "metadata": {
    "collapsed": false
   },
   "outputs": [
    {
     "name": "stdout",
     "output_type": "stream",
     "text": [
      "t= 0.00\n",
      "t= 37.00\n",
      "t= 37.10\n",
      "t= 37.20\n",
      "t= 37.30\n",
      "t= 37.40\n",
      "t= 37.50\n",
      "t= 37.60\n",
      "t= 37.70\n",
      "t= 37.80\n",
      "t= 37.90\n",
      "t= 38.00\n",
      "t= 38.10\n",
      "t= 38.20\n",
      "t= 38.30\n",
      "t= 38.40\n",
      "t= 38.50\n",
      "t= 38.60\n",
      "t= 38.70\n",
      "t= 38.80\n",
      "t= 38.90\n",
      "t= 39.00\n",
      "t= 39.10\n",
      "t= 39.20\n",
      "t= 39.30\n",
      "t= 39.40\n",
      "t= 39.50\n",
      "t= 39.60\n",
      "t= 39.70\n",
      "t= 39.80\n",
      "t= 39.90\n",
      "t= 40.00\n"
     ]
    }
   ],
   "source": [
    "for n in range(N):\n",
    "    if h[n] <= 0.0:\n",
    "        print(\"t= %.*f\" % (2,dt*n))"
   ]
  },
  {
   "cell_type": "code",
   "execution_count": 247,
   "metadata": {
    "collapsed": false
   },
   "outputs": [
    {
     "name": "stderr",
     "output_type": "stream",
     "text": [
      "/home/gil/anaconda3/lib/python3.5/site-packages/ipykernel/__main__.py:1: DeprecationWarning: using a non-integer number instead of an integer will result in an error in the future\n",
      "  if __name__ == '__main__':\n"
     ]
    },
    {
     "data": {
      "text/plain": [
       "-85.91195882374177"
      ]
     },
     "execution_count": 247,
     "metadata": {},
     "output_type": "execute_result"
    }
   ],
   "source": [
    "v[36.80/dt]"
   ]
  },
  {
   "cell_type": "code",
   "execution_count": 248,
   "metadata": {
    "collapsed": false
   },
   "outputs": [
    {
     "name": "stderr",
     "output_type": "stream",
     "text": [
      "/home/gil/anaconda3/lib/python3.5/site-packages/ipykernel/__main__.py:1: DeprecationWarning: using a non-integer number instead of an integer will result in an error in the future\n",
      "  if __name__ == '__main__':\n"
     ]
    },
    {
     "data": {
      "text/plain": [
       "523.52283429184774"
      ]
     },
     "execution_count": 248,
     "metadata": {},
     "output_type": "execute_result"
    }
   ],
   "source": [
    "h[4.9/dt]"
   ]
  },
  {
   "cell_type": "code",
   "execution_count": null,
   "metadata": {
    "collapsed": true
   },
   "outputs": [],
   "source": []
  }
 ],
 "metadata": {
  "anaconda-cloud": {},
  "kernelspec": {
   "display_name": "Python [default]",
   "language": "python",
   "name": "python3"
  },
  "language_info": {
   "codemirror_mode": {
    "name": "ipython",
    "version": 3
   },
   "file_extension": ".py",
   "mimetype": "text/x-python",
   "name": "python",
   "nbconvert_exporter": "python",
   "pygments_lexer": "ipython3",
   "version": "3.5.2"
  }
 },
 "nbformat": 4,
 "nbformat_minor": 1
}
